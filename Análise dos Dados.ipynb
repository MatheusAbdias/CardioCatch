{
 "cells": [
  {
   "cell_type": "markdown",
   "metadata": {},
   "source": [
    "## Análise de Dados  - Cardio Catch Diseases"
   ]
  },
  {
   "cell_type": "markdown",
   "metadata": {},
   "source": [
    "- ` A Cadio Catch Diseases é uma empresa especializada em detecção de doenças cardíacas em estágios iniciais. O seu modelo de negócio se basea no diagnotico precoçe de  doenças cardio vasculares e tendo seu valor monetario determinado pela precisão do diagnostico. `\n",
    "\n",
    "- ` O preço do diagnóstico, pago pelo cliente, varia de acordo com a precisão conseguida pelo laboratorio, é pago R$ 500,00 a cada 5% de acurácia acima de 50%. Por exemplo, para uma precisão de 55%, o diagnóstico custa R$ 500,00 para o cliente, para uma precisão de 60%, o valor é de R$ 1000,00 e assim por diante. Se a precisão do diagnóstico for 50% o cliente não paga por ele,porem é necessario para realizar o teste o custo de R$ 1000,00 ,logo é esperado que a precisão dos diagnosticos estejam sempre superior a 60% para manter o laboratorio. `\n",
    "\n",
    "### Descrição das colunas:\n",
    "\n",
    "- **Age | Objective Feature | age | int (days)**\n",
    "- **Height | Objective Feature | height | int (cm) |**\n",
    "- **Weight | Objective Feature | weight | float (kg) |**\n",
    "- **Gender | Objective Feature | gender | categorical code |**\n",
    "- **Systolic blood pressure | Examination Feature | ap_hi | int |**\n",
    "- **Diastolic blood pressure | Examination Feature | ap_lo | int |**\n",
    "- **Cholesterol | Examination Feature | cholesterol | 1: normal, 2: above normal, 3: well above normal |**\n",
    "- **Glucose | Examination Feature | gluc | 1: normal, 2: above normal, 3: well above normal |**\n",
    "- **Smoking | Subjective Feature | smoke | binary |**\n",
    "- **Alcohol intake | Subjective Feature | alco | binary |**\n",
    "- **Physical activity | Subjective Feature | active | binary |**\n",
    "- **Presence or absence of cardiovascular disease | Target Variable | cardio | binary |**`\n",
    "\n",
    "### Perguntas que devem ser respondidas ao CEO\n",
    "- Qual a Acurácia e a Precisão da ferramenta?\n",
    "    - **O modelo se encontra com 72.45% de acurácia.**\n",
    "- Quanto lucro a Cardio Catch Diseases passará a ter com a nova ferramenta?\n",
    "    - **Pra cada exame que for feito, a empresa terá um lucro de 2000.00 reais, pois é uma precisão 20 porcento acima da média.**\n",
    "- Qual a Confiabilidade do resultado dados pela nova ferramenta?\n",
    "    - **Pela constancia dos resultados**"
   ]
  },
  {
   "cell_type": "markdown",
   "metadata": {},
   "source": [
    "### Bibliotecas utilizadas "
   ]
  },
  {
   "cell_type": "code",
   "execution_count": 182,
   "metadata": {},
   "outputs": [],
   "source": [
    "import pandas as pd\n",
    "import matplotlib.pyplot as plt\n",
    "import seaborn as sns"
   ]
  },
  {
   "cell_type": "markdown",
   "metadata": {},
   "source": [
    "### Leitura de dados\n",
    "- Ao inciar a leitura do data set foi observado que a coluna **(age)** com as idades do pacientes estava em dias logo para deixar mais usal foi convertidade para anos.Tambem foi adicionada uma coluna com os imc de cada individuo, por mais que seja um medida ultrapassada na hora da aplicação do modelo pode vir auxiliar na decisão.Também foi observado que presença de outliers nas colunas Diastolic blood pressure,Systolic blood pressure e no Imc **(ap_hi,app_lo,imc)**, como numero de outliers não era expressivo perto da quantidade dos dados e representavem uma individuo inesistente foram removido os dados pois não representavam grande perda de informação."
   ]
  },
  {
   "cell_type": "code",
   "execution_count": 184,
   "metadata": {
    "scrolled": true
   },
   "outputs": [
    {
     "data": {
      "text/html": [
       "<div>\n",
       "<style scoped>\n",
       "    .dataframe tbody tr th:only-of-type {\n",
       "        vertical-align: middle;\n",
       "    }\n",
       "\n",
       "    .dataframe tbody tr th {\n",
       "        vertical-align: top;\n",
       "    }\n",
       "\n",
       "    .dataframe thead th {\n",
       "        text-align: right;\n",
       "    }\n",
       "</style>\n",
       "<table border=\"1\" class=\"dataframe\">\n",
       "  <thead>\n",
       "    <tr style=\"text-align: right;\">\n",
       "      <th></th>\n",
       "      <th>id</th>\n",
       "      <th>age</th>\n",
       "      <th>gender</th>\n",
       "      <th>height</th>\n",
       "      <th>weight</th>\n",
       "      <th>ap_hi</th>\n",
       "      <th>ap_lo</th>\n",
       "      <th>cholesterol</th>\n",
       "      <th>gluc</th>\n",
       "      <th>smoke</th>\n",
       "      <th>alco</th>\n",
       "      <th>active</th>\n",
       "      <th>cardio</th>\n",
       "      <th>imc</th>\n",
       "    </tr>\n",
       "  </thead>\n",
       "  <tbody>\n",
       "    <tr>\n",
       "      <th>0</th>\n",
       "      <td>0</td>\n",
       "      <td>50</td>\n",
       "      <td>2</td>\n",
       "      <td>168</td>\n",
       "      <td>62.0</td>\n",
       "      <td>110</td>\n",
       "      <td>80</td>\n",
       "      <td>1</td>\n",
       "      <td>1</td>\n",
       "      <td>0</td>\n",
       "      <td>0</td>\n",
       "      <td>1</td>\n",
       "      <td>0</td>\n",
       "      <td>21.97</td>\n",
       "    </tr>\n",
       "    <tr>\n",
       "      <th>1</th>\n",
       "      <td>1</td>\n",
       "      <td>55</td>\n",
       "      <td>1</td>\n",
       "      <td>156</td>\n",
       "      <td>85.0</td>\n",
       "      <td>140</td>\n",
       "      <td>90</td>\n",
       "      <td>3</td>\n",
       "      <td>1</td>\n",
       "      <td>0</td>\n",
       "      <td>0</td>\n",
       "      <td>1</td>\n",
       "      <td>1</td>\n",
       "      <td>34.93</td>\n",
       "    </tr>\n",
       "    <tr>\n",
       "      <th>2</th>\n",
       "      <td>2</td>\n",
       "      <td>51</td>\n",
       "      <td>1</td>\n",
       "      <td>165</td>\n",
       "      <td>64.0</td>\n",
       "      <td>130</td>\n",
       "      <td>70</td>\n",
       "      <td>3</td>\n",
       "      <td>1</td>\n",
       "      <td>0</td>\n",
       "      <td>0</td>\n",
       "      <td>0</td>\n",
       "      <td>1</td>\n",
       "      <td>23.51</td>\n",
       "    </tr>\n",
       "    <tr>\n",
       "      <th>3</th>\n",
       "      <td>3</td>\n",
       "      <td>48</td>\n",
       "      <td>2</td>\n",
       "      <td>169</td>\n",
       "      <td>82.0</td>\n",
       "      <td>150</td>\n",
       "      <td>100</td>\n",
       "      <td>1</td>\n",
       "      <td>1</td>\n",
       "      <td>0</td>\n",
       "      <td>0</td>\n",
       "      <td>1</td>\n",
       "      <td>1</td>\n",
       "      <td>28.71</td>\n",
       "    </tr>\n",
       "    <tr>\n",
       "      <th>4</th>\n",
       "      <td>4</td>\n",
       "      <td>47</td>\n",
       "      <td>1</td>\n",
       "      <td>156</td>\n",
       "      <td>56.0</td>\n",
       "      <td>100</td>\n",
       "      <td>60</td>\n",
       "      <td>1</td>\n",
       "      <td>1</td>\n",
       "      <td>0</td>\n",
       "      <td>0</td>\n",
       "      <td>0</td>\n",
       "      <td>0</td>\n",
       "      <td>23.01</td>\n",
       "    </tr>\n",
       "    <tr>\n",
       "      <th>...</th>\n",
       "      <td>...</td>\n",
       "      <td>...</td>\n",
       "      <td>...</td>\n",
       "      <td>...</td>\n",
       "      <td>...</td>\n",
       "      <td>...</td>\n",
       "      <td>...</td>\n",
       "      <td>...</td>\n",
       "      <td>...</td>\n",
       "      <td>...</td>\n",
       "      <td>...</td>\n",
       "      <td>...</td>\n",
       "      <td>...</td>\n",
       "      <td>...</td>\n",
       "    </tr>\n",
       "    <tr>\n",
       "      <th>69995</th>\n",
       "      <td>99993</td>\n",
       "      <td>52</td>\n",
       "      <td>2</td>\n",
       "      <td>168</td>\n",
       "      <td>76.0</td>\n",
       "      <td>120</td>\n",
       "      <td>80</td>\n",
       "      <td>1</td>\n",
       "      <td>1</td>\n",
       "      <td>1</td>\n",
       "      <td>0</td>\n",
       "      <td>1</td>\n",
       "      <td>0</td>\n",
       "      <td>26.93</td>\n",
       "    </tr>\n",
       "    <tr>\n",
       "      <th>69996</th>\n",
       "      <td>99995</td>\n",
       "      <td>61</td>\n",
       "      <td>1</td>\n",
       "      <td>158</td>\n",
       "      <td>126.0</td>\n",
       "      <td>140</td>\n",
       "      <td>90</td>\n",
       "      <td>2</td>\n",
       "      <td>2</td>\n",
       "      <td>0</td>\n",
       "      <td>0</td>\n",
       "      <td>1</td>\n",
       "      <td>1</td>\n",
       "      <td>50.47</td>\n",
       "    </tr>\n",
       "    <tr>\n",
       "      <th>69997</th>\n",
       "      <td>99996</td>\n",
       "      <td>52</td>\n",
       "      <td>2</td>\n",
       "      <td>183</td>\n",
       "      <td>105.0</td>\n",
       "      <td>180</td>\n",
       "      <td>90</td>\n",
       "      <td>3</td>\n",
       "      <td>1</td>\n",
       "      <td>0</td>\n",
       "      <td>1</td>\n",
       "      <td>0</td>\n",
       "      <td>1</td>\n",
       "      <td>31.35</td>\n",
       "    </tr>\n",
       "    <tr>\n",
       "      <th>69998</th>\n",
       "      <td>99998</td>\n",
       "      <td>61</td>\n",
       "      <td>1</td>\n",
       "      <td>163</td>\n",
       "      <td>72.0</td>\n",
       "      <td>135</td>\n",
       "      <td>80</td>\n",
       "      <td>1</td>\n",
       "      <td>2</td>\n",
       "      <td>0</td>\n",
       "      <td>0</td>\n",
       "      <td>0</td>\n",
       "      <td>1</td>\n",
       "      <td>27.10</td>\n",
       "    </tr>\n",
       "    <tr>\n",
       "      <th>69999</th>\n",
       "      <td>99999</td>\n",
       "      <td>56</td>\n",
       "      <td>1</td>\n",
       "      <td>170</td>\n",
       "      <td>72.0</td>\n",
       "      <td>120</td>\n",
       "      <td>80</td>\n",
       "      <td>2</td>\n",
       "      <td>1</td>\n",
       "      <td>0</td>\n",
       "      <td>0</td>\n",
       "      <td>1</td>\n",
       "      <td>0</td>\n",
       "      <td>24.91</td>\n",
       "    </tr>\n",
       "  </tbody>\n",
       "</table>\n",
       "<p>70000 rows × 14 columns</p>\n",
       "</div>"
      ],
      "text/plain": [
       "          id  age  gender  height  weight  ap_hi  ap_lo  cholesterol  gluc  \\\n",
       "0          0   50       2     168    62.0    110     80            1     1   \n",
       "1          1   55       1     156    85.0    140     90            3     1   \n",
       "2          2   51       1     165    64.0    130     70            3     1   \n",
       "3          3   48       2     169    82.0    150    100            1     1   \n",
       "4          4   47       1     156    56.0    100     60            1     1   \n",
       "...      ...  ...     ...     ...     ...    ...    ...          ...   ...   \n",
       "69995  99993   52       2     168    76.0    120     80            1     1   \n",
       "69996  99995   61       1     158   126.0    140     90            2     2   \n",
       "69997  99996   52       2     183   105.0    180     90            3     1   \n",
       "69998  99998   61       1     163    72.0    135     80            1     2   \n",
       "69999  99999   56       1     170    72.0    120     80            2     1   \n",
       "\n",
       "       smoke  alco  active  cardio    imc  \n",
       "0          0     0       1       0  21.97  \n",
       "1          0     0       1       1  34.93  \n",
       "2          0     0       0       1  23.51  \n",
       "3          0     0       1       1  28.71  \n",
       "4          0     0       0       0  23.01  \n",
       "...      ...   ...     ...     ...    ...  \n",
       "69995      1     0       1       0  26.93  \n",
       "69996      0     0       1       1  50.47  \n",
       "69997      0     1       0       1  31.35  \n",
       "69998      0     0       0       1  27.10  \n",
       "69999      0     0       1       0  24.91  \n",
       "\n",
       "[70000 rows x 14 columns]"
      ]
     },
     "execution_count": 184,
     "metadata": {},
     "output_type": "execute_result"
    }
   ],
   "source": [
    "#Adiciono a colunas de IMC no data set poremo como é necessario percorrer toda a coluna de height e wight é um processo lento.\n",
    "#Logo no final estamos atualizando o data set para que so ter que fazer esse processo uma  vez.\n",
    "\n",
    "Dados_cardio = pd.read_csv('cardio_train.csv', sep=';')\n",
    "imcs = []\n",
    "for dados in range(len(Dados_cardio)):\n",
    "    # Converte a idade de dias para anos\n",
    "    idade = Dados_cardio.iloc[dados]['age']\n",
    "    Dados_cardio.at[dados,'age'] = int(idade/365)\n",
    "    \n",
    "    # Calculo o imc e armazena em uma lista \n",
    "    altura = Dados_cardio.iloc[dados]['height']/100\n",
    "    peso = Dados_cardio.iloc[dados]['weight']\n",
    "    \n",
    "    imc = round(peso/(altura*altura),2)\n",
    "    imcs.append(imc)    \n",
    "    \n",
    "Dados_cardio['imc'] = imcs\n",
    "Dados_cardio.to_csv('cardio_train.csv', index = False)\n",
    "Dados_cardio"
   ]
  },
  {
   "cell_type": "markdown",
   "metadata": {},
   "source": [
    "### Dados Outliers"
   ]
  },
  {
   "cell_type": "code",
   "execution_count": 185,
   "metadata": {
    "scrolled": false
   },
   "outputs": [
    {
     "data": {
      "image/png": "[encoded data removed]",
      "text/plain": [
       "<Figure size 576x432 with 1 Axes>"
      ]
     },
     "metadata": {},
     "output_type": "display_data"
    },
    {
     "data": {
      "image/png": "[encoded data removed]",
      "text/plain": [
       "<Figure size 576x432 with 1 Axes>"
      ]
     },
     "metadata": {},
     "output_type": "display_data"
    },
    {
     "data": {
      "image/png": "[encoded data removed]",
      "text/plain": [
       "<Figure size 576x432 with 1 Axes>"
      ]
     },
     "metadata": {},
     "output_type": "display_data"
    },
    {
     "data": {
      "image/png": "[encoded data removed]",
      "text/plain": [
       "<Figure size 576x432 with 1 Axes>"
      ]
     },
     "metadata": {},
     "output_type": "display_data"
    },
    {
     "data": {
      "image/png": "[encoded data removed]",
      "text/plain": [
       "<Figure size 576x432 with 1 Axes>"
      ]
     },
     "metadata": {},
     "output_type": "display_data"
    }
   ],
   "source": [
    "#Fixo apenas as colunas com info não binarias\n",
    "colunas = Dados_cardio.iloc[:,[3,4,5,6,13]]\n",
    "for coluna in colunas:\n",
    "    plt.figure(figsize=(8,6))\n",
    "    sns.boxplot(x=coluna, data=Dados_cardio)"
   ]
  },
  {
   "cell_type": "markdown",
   "metadata": {
    "scrolled": true
   },
   "source": [
    "### Filtragem\n",
    "- Ao fazer uma breve pesquisa foi observado que pressão maxima que uma pessoa pode alcançar é por volta de 180 mmhg (sistólica) e para Diastólica 110 mmhg [(site usado)](http://www.saudeemmovimento.com.br/saude/tabelas/tabela_de_referencia_pressao.htm), para o imc foi um valor de 65 [(site usado)](https://pt.wikipedia.org/wiki/%C3%8Dndice_de_massa_corporal) porem para a lipesa do dados a aplicação desses valores geraria uma perda grande de informação.\n",
    "\n",
    "<img src = \"Pressão.png\"  alt=\"Pressão\" height=\"600\" width=\"600\"/> \n",
    "<img src = \"imc.png\"  alt=\"imc\" height=\"400\" width=\"400\"/>"
   ]
  },
  {
   "cell_type": "code",
   "execution_count": 186,
   "metadata": {},
   "outputs": [
    {
     "name": "stdout",
     "output_type": "stream",
     "text": [
      "68397\n",
      "70000\n"
     ]
    },
    {
     "data": {
      "text/plain": [
       "97.71"
      ]
     },
     "execution_count": 186,
     "metadata": {},
     "output_type": "execute_result"
    }
   ],
   "source": [
    "#Por meio do aplly geramos uma  series de true or false que é passado para o data frame como uma mascara para a filtragem.\n",
    "def invalid_ap_hi(element):\n",
    "    '''Filtragem da pressão sitólica'''\n",
    "    if element >=60 and element<=180:\n",
    "        return True\n",
    "    return False\n",
    "    \n",
    "def invalid_ap_lo(element):\n",
    "    '''Filtragem da pressão diastólica'''\n",
    "    if element>=40 and element<=140:\n",
    "        return True\n",
    "    return False\n",
    "\n",
    "def invalid_imc(element):\n",
    "    '''Filtragem do imc'''\n",
    "    if element>=14 and element<=60:\n",
    "        return True\n",
    "    return False\n",
    "\n",
    "Dados_cardio_clean = Dados_cardio[Dados_cardio['ap_hi'].apply(invalid_ap_hi)]\n",
    "Dados_cardio_clean = Dados_cardio_clean[Dados_cardio_clean['ap_lo'].apply(invalid_ap_lo)]\n",
    "Dados_cardio_clean = Dados_cardio_clean[Dados_cardio_clean['imc'].apply(invalid_imc)]\n",
    "\n",
    "print(len(Dados_cardio_clean))\n",
    "print(len(Dados_cardio))\n",
    "\n",
    "info = (len(Dados_cardio_clean)/len(Dados_cardio))*100\n",
    "info"
   ]
  },
  {
   "cell_type": "markdown",
   "metadata": {},
   "source": [
    "`A filtragem de dados gerou uma perca de informação de  2.29% o que é uma perda de informação aceitavel tendo em vista que os dados poderiam impactar o modelo negativamente , ainda se obeserva um numero grande de outliers porem como é uma analize bem abstrata cada paciente é unico este comportamento era esperado.`"
   ]
  },
  {
   "cell_type": "code",
   "execution_count": 187,
   "metadata": {
    "scrolled": false
   },
   "outputs": [
    {
     "data": {
      "image/png": "[encoded data removed]",
      "text/plain": [
       "<Figure size 432x432 with 1 Axes>"
      ]
     },
     "metadata": {},
     "output_type": "display_data"
    },
    {
     "data": {
      "image/png": "[encoded data removed]",
      "text/plain": [
       "<Figure size 432x432 with 1 Axes>"
      ]
     },
     "metadata": {},
     "output_type": "display_data"
    },
    {
     "data": {
      "image/png": "[encoded data removed]",
      "text/plain": [
       "<Figure size 432x432 with 1 Axes>"
      ]
     },
     "metadata": {},
     "output_type": "display_data"
    },
    {
     "data": {
      "image/png": "[encoded data removed]",
      "text/plain": [
       "<Figure size 432x432 with 1 Axes>"
      ]
     },
     "metadata": {},
     "output_type": "display_data"
    },
    {
     "data": {
      "image/png": "[encoded data removed]",
      "text/plain": [
       "<Figure size 432x432 with 1 Axes>"
      ]
     },
     "metadata": {},
     "output_type": "display_data"
    }
   ],
   "source": [
    "for coluna in colunas:\n",
    "    plt.figure(figsize =(6,6))\n",
    "    sns.boxplot(x = coluna, data=Dados_cardio_clean)"
   ]
  },
  {
   "cell_type": "markdown",
   "metadata": {
    "scrolled": false
   },
   "source": [
    "**1)** A proporção de homens e mulheres não mudou drasticamente."
   ]
  },
  {
   "cell_type": "code",
   "execution_count": 188,
   "metadata": {},
   "outputs": [
    {
     "data": {
      "image/png": "[encoded data removed]",
      "text/plain": [
       "<Figure size 432x288 with 1 Axes>"
      ]
     },
     "metadata": {},
     "output_type": "display_data"
    },
    {
     "data": {
      "image/png": "[encoded data removed]",
      "text/plain": [
       "<Figure size 432x288 with 1 Axes>"
      ]
     },
     "metadata": {},
     "output_type": "display_data"
    }
   ],
   "source": [
    "#Depois da limpesa \n",
    "valores = [a for a in Dados_cardio_clean['gender'].value_counts()]\n",
    "\n",
    "explode = (0.1, 0) \n",
    "\n",
    "plt.pie(valores, labels=[\"Homens\",\"Mulheres\"],shadow=True, explode=explode, autopct='%1.1f%%')\n",
    "plt.legend([\"Homens\",\"Mulheres\"], loc=3)\n",
    "plt.title(\"Porcentagem de pessoas com problemas cardíacos\")\n",
    "plt.show()\n",
    "#Antes da limpesa \n",
    "valores_old = [a for a  in Dados_cardio['gender'].value_counts()]\n",
    "\n",
    "explode_old = (0.1,0)\n",
    "\n",
    "plt.pie(valores_old,labels=['Homens','Mulheres'],shadow = True, explode = explode_old ,autopct='%1.1f%%')\n",
    "plt.legend(['Homens','Mulheres'],loc=3)\n",
    "plt.title(\"Porcentagem antes da limpesa \")\n",
    "plt.show()"
   ]
  },
  {
   "cell_type": "markdown",
   "metadata": {},
   "source": [
    "**2)** Nas idades também com uma perda relativamente cimetrica "
   ]
  },
  {
   "cell_type": "code",
   "execution_count": 189,
   "metadata": {
    "scrolled": true
   },
   "outputs": [
    {
     "data": {
      "text/plain": [
       "<AxesSubplot:xlabel='age', ylabel='Count'>"
      ]
     },
     "execution_count": 189,
     "metadata": {},
     "output_type": "execute_result"
    },
    {
     "data": {
      "image/png": "[encoded data removed]",
      "text/plain": [
       "<Figure size 432x288 with 1 Axes>"
      ]
     },
     "metadata": {},
     "output_type": "display_data"
    }
   ],
   "source": [
    "sns.histplot(x='age', data= Dados_cardio_clean, bins=20 ,kde=True,color='blue')\n",
    "sns.histplot(x='age', data= Dados_cardio, bins=20 ,kde=True , color='grey')"
   ]
  },
  {
   "cell_type": "markdown",
   "metadata": {
    "scrolled": true
   },
   "source": [
    "**3)** Analizar quais idades tem uma maior frequencia de problemas cardiacos."
   ]
  },
  {
   "cell_type": "markdown",
   "metadata": {},
   "source": [
    "` Para mulheres temos um diagnostico da doença mais cedo pode levantar uma hipótese de que as mulheres desenvolve problemas cardiacos mais cedo que os homens.`"
   ]
  },
  {
   "cell_type": "code",
   "execution_count": 190,
   "metadata": {
    "scrolled": true
   },
   "outputs": [
    {
     "data": {
      "text/html": [
       "<div>\n",
       "<style scoped>\n",
       "    .dataframe tbody tr th:only-of-type {\n",
       "        vertical-align: middle;\n",
       "    }\n",
       "\n",
       "    .dataframe tbody tr th {\n",
       "        vertical-align: top;\n",
       "    }\n",
       "\n",
       "    .dataframe thead th {\n",
       "        text-align: right;\n",
       "    }\n",
       "</style>\n",
       "<table border=\"1\" class=\"dataframe\">\n",
       "  <thead>\n",
       "    <tr style=\"text-align: right;\">\n",
       "      <th></th>\n",
       "      <th>age_num</th>\n",
       "    </tr>\n",
       "  </thead>\n",
       "  <tbody>\n",
       "    <tr>\n",
       "      <th>57</th>\n",
       "      <td>686</td>\n",
       "    </tr>\n",
       "    <tr>\n",
       "      <th>55</th>\n",
       "      <td>683</td>\n",
       "    </tr>\n",
       "    <tr>\n",
       "      <th>59</th>\n",
       "      <td>656</td>\n",
       "    </tr>\n",
       "    <tr>\n",
       "      <th>63</th>\n",
       "      <td>643</td>\n",
       "    </tr>\n",
       "    <tr>\n",
       "      <th>58</th>\n",
       "      <td>643</td>\n",
       "    </tr>\n",
       "  </tbody>\n",
       "</table>\n",
       "</div>"
      ],
      "text/plain": [
       "    age_num\n",
       "57      686\n",
       "55      683\n",
       "59      656\n",
       "63      643\n",
       "58      643"
      ]
     },
     "metadata": {},
     "output_type": "display_data"
    },
    {
     "data": {
      "text/html": [
       "<div>\n",
       "<style scoped>\n",
       "    .dataframe tbody tr th:only-of-type {\n",
       "        vertical-align: middle;\n",
       "    }\n",
       "\n",
       "    .dataframe tbody tr th {\n",
       "        vertical-align: top;\n",
       "    }\n",
       "\n",
       "    .dataframe thead th {\n",
       "        text-align: right;\n",
       "    }\n",
       "</style>\n",
       "<table border=\"1\" class=\"dataframe\">\n",
       "  <thead>\n",
       "    <tr style=\"text-align: right;\">\n",
       "      <th></th>\n",
       "      <th>age_num</th>\n",
       "    </tr>\n",
       "  </thead>\n",
       "  <tbody>\n",
       "    <tr>\n",
       "      <th>59</th>\n",
       "      <td>1471</td>\n",
       "    </tr>\n",
       "    <tr>\n",
       "      <th>55</th>\n",
       "      <td>1418</td>\n",
       "    </tr>\n",
       "    <tr>\n",
       "      <th>57</th>\n",
       "      <td>1329</td>\n",
       "    </tr>\n",
       "    <tr>\n",
       "      <th>56</th>\n",
       "      <td>1284</td>\n",
       "    </tr>\n",
       "    <tr>\n",
       "      <th>63</th>\n",
       "      <td>1282</td>\n",
       "    </tr>\n",
       "  </tbody>\n",
       "</table>\n",
       "</div>"
      ],
      "text/plain": [
       "    age_num\n",
       "59     1471\n",
       "55     1418\n",
       "57     1329\n",
       "56     1284\n",
       "63     1282"
      ]
     },
     "metadata": {},
     "output_type": "display_data"
    }
   ],
   "source": [
    "def cardio(element):\n",
    "    if element == 1:\n",
    "        return True\n",
    "    return False\n",
    "\n",
    "#pegando apenas os cardiacos \n",
    "true_cardio = Dados_cardio_clean[Dados_cardio_clean['cardio'].apply(cardio)]\n",
    "\n",
    "#top 5 idades mais frequentes doenças cardiacas para mulheres \n",
    "true_cardio_m = true_cardio.loc[true_cardio.gender == 2,:].iloc[:,[1]].copy()\n",
    "true_cardio_m.columns = ['age_num']\n",
    "true_cardio_m = true_cardio_m.apply(pd.value_counts)\n",
    "display(true_cardio_m.head(5))\n",
    "\n",
    "#homens cardiacos idades mais frequentes\n",
    "true_cardio_h = true_cardio.loc[true_cardio.gender == 1,:].iloc[:,[1]].copy()\n",
    "true_cardio_h.columns=['age_num']\n",
    "true_cardio_h = true_cardio_h.apply(pd.value_counts)\n",
    "display(true_cardio_h.head(5))"
   ]
  },
  {
   "cell_type": "code",
   "execution_count": 191,
   "metadata": {},
   "outputs": [
    {
     "data": {
      "image/png": "[encoded data removed]",
      "text/plain": [
       "<Figure size 576x432 with 1 Axes>"
      ]
     },
     "metadata": {},
     "output_type": "display_data"
    }
   ],
   "source": [
    "df_cardio = Dados_cardio_clean.query('cardio==1 and gender == 1')\n",
    "age_value = df_cardio['age'].value_counts().index[:5]\n",
    "sns.set(style='darkgrid')\n",
    "plt.figure(figsize=(8,6))\n",
    "ax = sns.countplot(x = 'age', data = df_cardio.query('age in @age_value'), order=age_value)\n",
    "ax.set_title(\"Top 5 Idades com maior incidencia de problemas cardíacos em homens\")\n",
    "\n",
    "plt.show()"
   ]
  },
  {
   "cell_type": "code",
   "execution_count": 192,
   "metadata": {
    "scrolled": false
   },
   "outputs": [
    {
     "data": {
      "image/png": "[encoded data removed]",
      "text/plain": [
       "<Figure size 576x432 with 1 Axes>"
      ]
     },
     "metadata": {},
     "output_type": "display_data"
    }
   ],
   "source": [
    "df_cardio = Dados_cardio_clean.query('cardio==1 and gender == 2')\n",
    "age_value = df_cardio['age'].value_counts().index[:5]\n",
    "sns.set(style='darkgrid')\n",
    "plt.figure(figsize=(8,6))\n",
    "ax = sns.countplot(x = 'age', data = df_cardio.query('age in @age_value'), order=age_value)\n",
    "ax.set_title(\"Top 5 Idades com maior incidencia de problemas cardíacos em mulheres\")\n",
    "\n",
    "plt.show()"
   ]
  },
  {
   "cell_type": "markdown",
   "metadata": {},
   "source": [
    "**6)**  No  atributo active (que significa praticante de atividade física), levantei uma hipótese existir alguma relação benefica ou não em o individuo ser ativo e a doença cardiaca,se o idividuo diagnosticado como cardiaco é ativo ou se o numero de ativos e não cargiacos tinha uma relação mais forte representando uma relação benefica.\n",
    "\n",
    "- Foi constatado uma relação que os numero de individuos ativos e cardiacos é maior do que os de individuos saudaveis ativos, muito provavelmente é algo peculiar do grupo de estudo talvez as pessoas após os diagnostico se tornaram mais ativas para evitar o agravamento.\n",
    "- Tabém temos uma hipótese bem mais improvavel de que o individuo que é ativo porem tem costumes em seu dia a dia que fazem esse aspecto impactar negativamente em sua saude."
   ]
  },
  {
   "cell_type": "code",
   "execution_count": 193,
   "metadata": {},
   "outputs": [
    {
     "data": {
      "text/html": [
       "<div>\n",
       "<style scoped>\n",
       "    .dataframe tbody tr th:only-of-type {\n",
       "        vertical-align: middle;\n",
       "    }\n",
       "\n",
       "    .dataframe tbody tr th {\n",
       "        vertical-align: top;\n",
       "    }\n",
       "\n",
       "    .dataframe thead th {\n",
       "        text-align: right;\n",
       "    }\n",
       "</style>\n",
       "<table border=\"1\" class=\"dataframe\">\n",
       "  <thead>\n",
       "    <tr style=\"text-align: right;\">\n",
       "      <th></th>\n",
       "      <th>cardio</th>\n",
       "      <th>0</th>\n",
       "      <th>1</th>\n",
       "    </tr>\n",
       "    <tr>\n",
       "      <th>gender</th>\n",
       "      <th>active</th>\n",
       "      <th></th>\n",
       "      <th></th>\n",
       "    </tr>\n",
       "  </thead>\n",
       "  <tbody>\n",
       "    <tr>\n",
       "      <th rowspan=\"2\" valign=\"top\">1</th>\n",
       "      <th>0</th>\n",
       "      <td>4225</td>\n",
       "      <td>4605</td>\n",
       "    </tr>\n",
       "    <tr>\n",
       "      <th>1</th>\n",
       "      <td>18461</td>\n",
       "      <td>17270</td>\n",
       "    </tr>\n",
       "    <tr>\n",
       "      <th rowspan=\"2\" valign=\"top\">2</th>\n",
       "      <th>0</th>\n",
       "      <td>2080</td>\n",
       "      <td>2536</td>\n",
       "    </tr>\n",
       "    <tr>\n",
       "      <th>1</th>\n",
       "      <td>9889</td>\n",
       "      <td>9331</td>\n",
       "    </tr>\n",
       "  </tbody>\n",
       "</table>\n",
       "</div>"
      ],
      "text/plain": [
       "cardio             0      1\n",
       "gender active              \n",
       "1      0        4225   4605\n",
       "       1       18461  17270\n",
       "2      0        2080   2536\n",
       "       1        9889   9331"
      ]
     },
     "execution_count": 193,
     "metadata": {},
     "output_type": "execute_result"
    }
   ],
   "source": [
    "pd.crosstab([Dados_cardio_clean['gender'],Dados_cardio_clean['active']],Dados_cardio_clean['cardio'])"
   ]
  },
  {
   "cell_type": "markdown",
   "metadata": {},
   "source": [
    "**7)** Pelo grafico de calor observamos que as pressões diastólicas e sistólicas tem uma relação mais forte com a cliente ser cardiaco,é algo esperado tendo em vista que as pressões são dados referentes a corrente sanguinea que sofre impacto de qualquer alteração no funcionamento do corração."
   ]
  },
  {
   "cell_type": "code",
   "execution_count": 194,
   "metadata": {},
   "outputs": [
    {
     "data": {
      "text/plain": [
       "<AxesSubplot:>"
      ]
     },
     "execution_count": 194,
     "metadata": {},
     "output_type": "execute_result"
    },
    {
     "data": {
      "image/png": "[encoded data removed]",
      "text/plain": [
       "<Figure size 432x288 with 2 Axes>"
      ]
     },
     "metadata": {},
     "output_type": "display_data"
    }
   ],
   "source": [
    "sns.heatmap(Dados_cardio_clean.corr())"
   ]
  },
  {
   "cell_type": "markdown",
   "metadata": {},
   "source": [
    "### Modelos de machibe Learning:\n",
    "**Modelo escolhido para teste:**\n",
    "- Decision Tree - 73.41%"
   ]
  },
  {
   "cell_type": "code",
   "execution_count": 195,
   "metadata": {},
   "outputs": [],
   "source": [
    "from sklearn.model_selection import train_test_split\n",
    "\n",
    "x = Dados_cardio_clean[['age','gender','ap_hi','ap_lo','cholesterol', 'gluc','smoke','alco','active','imc']]\n",
    "\n",
    "y = Dados_cardio_clean['cardio'].values\n",
    "\n",
    "\n",
    "x_train, x_test, y_train, y_test = train_test_split(x, y, test_size = 0.2, random_state = 527)"
   ]
  },
  {
   "cell_type": "code",
   "execution_count": 196,
   "metadata": {},
   "outputs": [
    {
     "name": "stdout",
     "output_type": "stream",
     "text": [
      "Taxa de acertos 73.41 \n"
     ]
    }
   ],
   "source": [
    "from sklearn.tree import DecisionTreeClassifier\n",
    "from sklearn.metrics import accuracy_score\n",
    "from sklearn import metrics\n",
    "from sklearn.metrics import confusion_matrix \n",
    "\n",
    "modelo_arvore = DecisionTreeClassifier(max_depth=5)\n",
    "modelo_arvore.fit(x_train, y_train)\n",
    "\n",
    "previsoes = modelo_arvore.predict(x_test)\n",
    "\n",
    "taxa_de_acerto = accuracy_score(y_test,previsoes)\n",
    "print(\"Taxa de acertos %.2f \" % (taxa_de_acerto*100))"
   ]
  },
  {
   "cell_type": "code",
   "execution_count": 197,
   "metadata": {},
   "outputs": [
    {
     "name": "stdout",
     "output_type": "stream",
     "text": [
      "0.7309062996874829\n",
      "0.7340643274853801\n"
     ]
    }
   ],
   "source": [
    "print(modelo_arvore.score(x_train,y_train))\n",
    "print(modelo_arvore.score(x_test,y_test))"
   ]
  },
  {
   "cell_type": "code",
   "execution_count": 198,
   "metadata": {
    "scrolled": true
   },
   "outputs": [
    {
     "data": {
      "text/plain": [
       "<AxesSubplot:>"
      ]
     },
     "execution_count": 198,
     "metadata": {},
     "output_type": "execute_result"
    },
    {
     "data": {
      "image/png": "[encoded data removed]",
      "text/plain": [
       "<Figure size 432x288 with 2 Axes>"
      ]
     },
     "metadata": {},
     "output_type": "display_data"
    }
   ],
   "source": [
    "x = confusion_matrix(y_test,previsoes)\n",
    "sns.heatmap(x,annot = True, xticklabels = [\"não cardio\", \"Cardio\"], yticklabels = [\"não cardio\", \"Cardio\"])"
   ]
  },
  {
   "cell_type": "code",
   "execution_count": 199,
   "metadata": {},
   "outputs": [
    {
     "name": "stdout",
     "output_type": "stream",
     "text": [
      "Precisão - Não Cardio: \n",
      "72.02995867768595 %\n",
      "Precisão - Cardio: \n",
      "75.2021563342318 %\n",
      "Acurácia: \n",
      "73.40643274853801 %\n"
     ]
    }
   ],
   "source": [
    "print(\"Precisão - Não Cardio: \")\n",
    "print(100 * x[0][0] / (x[0][0] + x[1][0]), \"%\")\n",
    "\n",
    "print(\"Precisão - Cardio: \")\n",
    "print(100 * x[1][1] / (x[1][1] + x[0][1]), \"%\")\n",
    "\n",
    "print(\"Acurácia: \")\n",
    "print(100 * (x[0][0] + x[1][1]) / sum(sum(x)), \"%\")"
   ]
  },
  {
   "cell_type": "code",
   "execution_count": 200,
   "metadata": {},
   "outputs": [
    {
     "data": {
      "text/plain": [
       "73.22544205898399"
      ]
     },
     "execution_count": 200,
     "metadata": {},
     "output_type": "execute_result"
    }
   ],
   "source": [
    "fpr, tpr, thresholds = metrics.roc_curve(y_test, previsoes, pos_label=1)\n",
    "metrics.auc(fpr, tpr)*100"
   ]
  },
  {
   "cell_type": "markdown",
   "metadata": {},
   "source": [
    "### Previsão recebendo apenas uma data frame com apenas mulheres"
   ]
  },
  {
   "cell_type": "code",
   "execution_count": 201,
   "metadata": {},
   "outputs": [],
   "source": [
    "cardio_m = Dados_cardio_clean.loc[Dados_cardio_clean.gender == 2,:].iloc[:,[1,2,3,4,5,6,7,8,9,10,11,12,13]].copy()\n",
    "\n",
    "x_m = cardio_m[['age','gender','ap_hi','ap_lo','cholesterol', 'gluc','smoke','alco','active','imc']]\n",
    "\n",
    "y_m = cardio_m['cardio'].values\n",
    "\n",
    "x_train_m, x_test_m, y_train_m, y_test_m = train_test_split(x_m, y_m, test_size = 0.2, random_state = 527)"
   ]
  },
  {
   "cell_type": "code",
   "execution_count": 202,
   "metadata": {},
   "outputs": [
    {
     "name": "stdout",
     "output_type": "stream",
     "text": [
      "Taxa de acertos 72.04 \n"
     ]
    }
   ],
   "source": [
    "modelo_arvore = DecisionTreeClassifier(max_depth=5)\n",
    "modelo_arvore.fit(x_train_m, y_train_m)\n",
    "\n",
    "previsoes = modelo_arvore.predict(x_test_m)\n",
    "\n",
    "taxa_de_acerto = accuracy_score(y_test_m,previsoes)\n",
    "print(\"Taxa de acertos %.2f \" % (taxa_de_acerto*100))"
   ]
  },
  {
   "cell_type": "code",
   "execution_count": 203,
   "metadata": {},
   "outputs": [
    {
     "name": "stdout",
     "output_type": "stream",
     "text": [
      "0.7315921963499056\n",
      "0.7204278523489933\n"
     ]
    }
   ],
   "source": [
    "print(modelo_arvore.score(x_train_m,y_train_m))\n",
    "print(modelo_arvore.score(x_test_m,y_test_m))"
   ]
  },
  {
   "cell_type": "code",
   "execution_count": 204,
   "metadata": {
    "scrolled": true
   },
   "outputs": [
    {
     "data": {
      "text/plain": [
       "<AxesSubplot:>"
      ]
     },
     "execution_count": 204,
     "metadata": {},
     "output_type": "execute_result"
    },
    {
     "data": {
      "image/png": "[encoded data removed]",
      "text/plain": [
       "<Figure size 432x288 with 2 Axes>"
      ]
     },
     "metadata": {},
     "output_type": "display_data"
    }
   ],
   "source": [
    "x = confusion_matrix(y_test_m,previsoes)\n",
    "sns.heatmap(x,annot = True, xticklabels = [\"não cardio\", \"Cardio\"], yticklabels = [\"não cardio\", \"Cardio\"])"
   ]
  },
  {
   "cell_type": "code",
   "execution_count": 205,
   "metadata": {},
   "outputs": [
    {
     "name": "stdout",
     "output_type": "stream",
     "text": [
      "Precisão - Não Cardio: \n",
      "69.47291361639824 %\n",
      "Precisão - Cardio: \n",
      "75.49115913555993 %\n",
      "Acurácia: \n",
      "72.04278523489933 %\n"
     ]
    }
   ],
   "source": [
    "print(\"Precisão - Não Cardio: \")\n",
    "print(100 * x[0][0] / (x[0][0] + x[1][0]), \"%\")\n",
    "\n",
    "print(\"Precisão - Cardio: \")\n",
    "print(100 * x[1][1] / (x[1][1] + x[0][1]), \"%\")\n",
    "\n",
    "print(\"Acurácia: \")\n",
    "print(100 * (x[0][0] + x[1][1]) / sum(sum(x)), \"%\")"
   ]
  },
  {
   "cell_type": "code",
   "execution_count": 206,
   "metadata": {},
   "outputs": [
    {
     "data": {
      "text/plain": [
       "72.00363979506929"
      ]
     },
     "execution_count": 206,
     "metadata": {},
     "output_type": "execute_result"
    }
   ],
   "source": [
    "fpr, tpr, thresholds = metrics.roc_curve(y_test_m, previsoes, pos_label=1)\n",
    "metrics.auc(fpr, tpr)*100"
   ]
  },
  {
   "cell_type": "markdown",
   "metadata": {},
   "source": [
    "### Previsão recebendo apenas uma data frame com apenas homens "
   ]
  },
  {
   "cell_type": "code",
   "execution_count": 207,
   "metadata": {},
   "outputs": [],
   "source": [
    "cardio_h = Dados_cardio_clean.loc[Dados_cardio_clean.gender == 1,:].iloc[:,[1,2,3,4,5,6,7,8,9,10,11,12,13]].copy()\n",
    "\n",
    "x_h = cardio_h[['age','gender','ap_hi','ap_lo','cholesterol', 'gluc','smoke','alco','active','imc']]\n",
    "\n",
    "y_h = cardio_h['cardio'].values\n",
    "\n",
    "x_train_h, x_test_h, y_train_h, y_test_h = train_test_split(x_h, y_h, test_size = 0.2, random_state = 527)"
   ]
  },
  {
   "cell_type": "code",
   "execution_count": 208,
   "metadata": {},
   "outputs": [
    {
     "name": "stdout",
     "output_type": "stream",
     "text": [
      "Taxa de acertos 72.48 \n"
     ]
    }
   ],
   "source": [
    "modelo_arvore = DecisionTreeClassifier(max_depth=5)\n",
    "modelo_arvore.fit(x_train_h, y_train_h)\n",
    "\n",
    "previsoes = modelo_arvore.predict(x_test_h)\n",
    "\n",
    "taxa_de_acerto = accuracy_score(y_test_h,previsoes)\n",
    "print(\"Taxa de acertos %.2f \" % (taxa_de_acerto*100))"
   ]
  },
  {
   "cell_type": "markdown",
   "metadata": {},
   "source": [
    "### Testando a precisão do modelo\n",
    "- Como os balores do x de treino e de teste não estão muito longe o modelo esta se saindo bem com dados que ele não conhece e com dados que ele já treino."
   ]
  },
  {
   "cell_type": "code",
   "execution_count": 209,
   "metadata": {},
   "outputs": [
    {
     "name": "stdout",
     "output_type": "stream",
     "text": [
      "0.7363666965888689\n",
      "0.7247840233366992\n"
     ]
    }
   ],
   "source": [
    "print(modelo_arvore.score(x_train_h,y_train_h))\n",
    "\n",
    "print(modelo_arvore.score(x_test_h,y_test_h))"
   ]
  },
  {
   "cell_type": "code",
   "execution_count": 210,
   "metadata": {},
   "outputs": [
    {
     "data": {
      "text/plain": [
       "<AxesSubplot:>"
      ]
     },
     "execution_count": 210,
     "metadata": {},
     "output_type": "execute_result"
    },
    {
     "data": {
      "image/png": "[encoded data removed]",
      "text/plain": [
       "<Figure size 432x288 with 2 Axes>"
      ]
     },
     "metadata": {},
     "output_type": "display_data"
    }
   ],
   "source": [
    "from sklearn.metrics import confusion_matrix \n",
    "x = confusion_matrix(y_test_h,previsoes)\n",
    "sns.heatmap(x,annot = True, xticklabels = [\"não cardio\", \"Cardio\"], yticklabels = [\"não cardio\", \"Cardio\"])"
   ]
  },
  {
   "cell_type": "code",
   "execution_count": 211,
   "metadata": {
    "scrolled": true
   },
   "outputs": [
    {
     "name": "stdout",
     "output_type": "stream",
     "text": [
      "Precisão - Não Cardio: \n",
      "69.6470588235294 %\n",
      "Precisão - Cardio: \n",
      "76.26540781536848 %\n",
      "Acurácia: \n",
      "72.47840233366992 %\n"
     ]
    }
   ],
   "source": [
    "print(\"Precisão - Não Cardio: \")\n",
    "print(100 * x[0][0] / (x[0][0] + x[1][0]), \"%\")\n",
    "\n",
    "print(\"Precisão - Cardio: \")\n",
    "print(100 * x[1][1] / (x[1][1] + x[0][1]), \"%\")\n",
    "\n",
    "print(\"Acurácia: \")\n",
    "print(100 * (x[0][0] + x[1][1]) / sum(sum(x)), \"%\")"
   ]
  },
  {
   "cell_type": "code",
   "execution_count": 212,
   "metadata": {},
   "outputs": [
    {
     "data": {
      "text/plain": [
       "72.47759258729636"
      ]
     },
     "execution_count": 212,
     "metadata": {},
     "output_type": "execute_result"
    }
   ],
   "source": [
    "fpr, tpr, thresholds = metrics.roc_curve(y_test_h, previsoes, pos_label=1)\n",
    "metrics.auc(fpr, tpr)*100"
   ]
  },
  {
   "cell_type": "markdown",
   "metadata": {},
   "source": [
    "## Referências: \n",
    "\n",
    "- [Problema Cardio Catch Diseases](https://sejaumdatascientist.com/projeto-de-data-science-diagnostico-precoce-de-doencas-cardiovasculares/)\n",
    "- [Cardiovascular Disease dataset](https://www.kaggle.com/sulianova/cardiovascular-disease-dataset)"
   ]
  }
 ],
 "metadata": {
  "kernelspec": {
   "display_name": "Python 3",
   "language": "python",
   "name": "python3"
  },
  "language_info": {
   "codemirror_mode": {
    "name": "ipython",
    "version": 3
   },
   "file_extension": ".py",
   "mimetype": "text/x-python",
   "name": "python",
   "nbconvert_exporter": "python",
   "pygments_lexer": "ipython3",
   "version": "3.9.5"
  }
 },
 "nbformat": 4,
 "nbformat_minor": 4
}
